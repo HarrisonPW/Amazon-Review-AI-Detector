{
  "cells": [
    {
      "cell_type": "markdown",
      "metadata": {
        "id": "Tce3stUlHN0L"
      },
      "source": [
        "##### Copyright 2024 Google LLC."
      ]
    },
    {
      "cell_type": "code",
      "execution_count": null,
      "metadata": {
        "cellView": "form",
        "id": "tuOe1ymfHZPu"
      },
      "outputs": [],
      "source": [
        "#@title Licensed under the Apache License, Version 2.0 (the \"License\");\n",
        "# you may not use this file except in compliance with the License.\n",
        "# You may obtain a copy of the License at\n",
        "#\n",
        "# https://www.apache.org/licenses/LICENSE-2.0\n",
        "#\n",
        "# Unless required by applicable law or agreed to in writing, software\n",
        "# distributed under the License is distributed on an \"AS IS\" BASIS,\n",
        "# WITHOUT WARRANTIES OR CONDITIONS OF ANY KIND, either express or implied.\n",
        "# See the License for the specific language governing permissions and\n",
        "# limitations under the License."
      ]
    },
    {
      "cell_type": "markdown",
      "metadata": {
        "id": "-QhPWE1lwZHH"
      },
      "source": [
        "# Gemini API Python quickstart"
      ]
    },
    {
      "cell_type": "markdown",
      "metadata": {
        "id": "fa7c47ae6451"
      },
      "source": [
        "<table class=\"tfo-notebook-buttons\" align=\"left\">\n",
        "  <td>\n",
        "    <a target=\"_blank\" href=\"https://ai.google.dev/tutorials/quickstart_colab\"><img src=\"https://ai.google.dev/static/site-assets/images/docs/notebook-site-button.png\" height=\"32\" width=\"32\" />View on Google AI</a>\n",
        "  </td>\n",
        "  <td>\n",
        "    <a target=\"_blank\" href=\"https://colab.research.google.com/github/google/generative-ai-docs/blob/main/site/en/tutorials/quickstart_colab.ipynb\"><img src=\"https://www.tensorflow.org/images/colab_logo_32px.png\" />Run in Google Colab</a>\n",
        "  </td>\n",
        "  <td>\n",
        "    <a target=\"_blank\" href=\"https://github.com/google/generative-ai-docs/blob/main/site/en/tutorials/quickstart_colab.ipynb\"><img src=\"https://www.tensorflow.org/images/GitHub-Mark-32px.png\" />View source on GitHub</a>\n",
        "  </td>\n",
        "</table>"
      ]
    },
    {
      "cell_type": "markdown",
      "metadata": {
        "id": "db29b8d4247e"
      },
      "source": [
        "This tutorial shows you how to get started with the Gemini API using the Python SDK."
      ]
    },
    {
      "cell_type": "markdown",
      "metadata": {
        "id": "NNNg43Ymw54e"
      },
      "source": [
        "## Prerequisites\n",
        "\n",
        "You can run this tutorial in Google Colab, which doesn't require additional environment configuration.\n",
        "\n",
        "Alternatively, to complete this quickstart locally, see the Python guidance in [Get started with the Gemini API](https://ai.google.dev/tutorials/quickstart)."
      ]
    },
    {
      "cell_type": "markdown",
      "metadata": {
        "id": "kHkHARdb1ZID"
      },
      "source": [
        "## Install the SDK\n",
        "\n",
        "The Python SDK for the Gemini API is contained in the [`google-generativeai`](https://pypi.org/project/google-generativeai/) package. Install the dependency using pip:"
      ]
    },
    {
      "cell_type": "code",
      "execution_count": 1,
      "metadata": {
        "id": "J6Pd9SFJ1yVi"
      },
      "outputs": [],
      "source": [
        "!pip install -q -U google-generativeai"
      ]
    },
    {
      "cell_type": "markdown",
      "metadata": {
        "id": "EeMCtmx9ykyx"
      },
      "source": [
        "## Set up your API key\n",
        "\n",
        "To use the Gemini API, you'll need an API key. If you don't already have one, create a key in Google AI Studio.\n",
        "\n",
        "<a class=\"button\" href=\"https://aistudio.google.com/app/apikey\" target=\"_blank\" rel=\"noopener noreferrer\">Get an API key</a>\n",
        "\n",
        "In Colab, add the key to the secrets manager under the \"🔑\" in the left panel. Give it the name `GOOGLE_API_KEY`. Then pass the key to the SDK:"
      ]
    },
    {
      "cell_type": "code",
      "source": [
        "import google.generativeai as genai\n",
        "from google.colab import userdata\n",
        "\n",
        "GOOGLE_API_KEY=userdata.get('GOOGLE_API_KEY')\n",
        "genai.configure(api_key=GOOGLE_API_KEY)\n",
        "\n",
        "# 检查可用的模型\n",
        "models = genai.list_models()\n",
        "for model in models:\n",
        "    print(model.name, model.supported_generation_methods)"
      ],
      "metadata": {
        "id": "YbyzkTT_zn9S",
        "outputId": "07a39fea-bedc-478b-e1f4-b79b615fe787",
        "colab": {
          "base_uri": "https://localhost:8080/",
          "height": 520
        },
        "collapsed": true
      },
      "execution_count": 4,
      "outputs": [
        {
          "output_type": "stream",
          "name": "stdout",
          "text": [
            "models/chat-bison-001 ['generateMessage', 'countMessageTokens']\n",
            "models/text-bison-001 ['generateText', 'countTextTokens', 'createTunedTextModel']\n",
            "models/embedding-gecko-001 ['embedText', 'countTextTokens']\n",
            "models/gemini-1.0-pro-latest ['generateContent', 'countTokens']\n",
            "models/gemini-1.0-pro ['generateContent', 'countTokens']\n",
            "models/gemini-pro ['generateContent', 'countTokens']\n",
            "models/gemini-1.0-pro-001 ['generateContent', 'countTokens', 'createTunedModel']\n",
            "models/gemini-1.0-pro-vision-latest ['generateContent', 'countTokens']\n",
            "models/gemini-pro-vision ['generateContent', 'countTokens']\n",
            "models/gemini-1.5-pro-latest ['generateContent', 'countTokens']\n",
            "models/gemini-1.5-pro-001 ['generateContent', 'countTokens', 'createCachedContent']\n",
            "models/gemini-1.5-pro-002 ['generateContent', 'countTokens', 'createCachedContent']\n",
            "models/gemini-1.5-pro ['generateContent', 'countTokens']\n",
            "models/gemini-1.5-pro-exp-0801 ['generateContent', 'countTokens']\n",
            "models/gemini-1.5-pro-exp-0827 ['generateContent', 'countTokens']\n",
            "models/gemini-1.5-flash-latest ['generateContent', 'countTokens']\n",
            "models/gemini-1.5-flash-001 ['generateContent', 'countTokens', 'createCachedContent']\n",
            "models/gemini-1.5-flash-001-tuning ['generateContent', 'countTokens', 'createTunedModel']\n",
            "models/gemini-1.5-flash ['generateContent', 'countTokens']\n",
            "models/gemini-1.5-flash-exp-0827 ['generateContent', 'countTokens']\n",
            "models/gemini-1.5-flash-002 ['generateContent', 'countTokens', 'createCachedContent']\n",
            "models/gemini-1.5-flash-8b ['createCachedContent', 'generateContent', 'countTokens']\n",
            "models/gemini-1.5-flash-8b-001 ['createCachedContent', 'generateContent', 'countTokens']\n",
            "models/gemini-1.5-flash-8b-latest ['createCachedContent', 'generateContent', 'countTokens']\n",
            "models/gemini-1.5-flash-8b-exp-0827 ['generateContent', 'countTokens']\n",
            "models/gemini-1.5-flash-8b-exp-0924 ['generateContent', 'countTokens']\n",
            "models/embedding-001 ['embedContent']\n",
            "models/text-embedding-004 ['embedContent']\n",
            "models/aqa ['generateAnswer']\n"
          ]
        }
      ]
    },
    {
      "cell_type": "markdown",
      "source": [
        "## Connect to Google Drive\n"
      ],
      "metadata": {
        "id": "LMs4VOw70zNt"
      }
    },
    {
      "cell_type": "code",
      "source": [
        "from google.colab import drive\n",
        "drive.mount('/content/drive')"
      ],
      "metadata": {
        "colab": {
          "base_uri": "https://localhost:8080/"
        },
        "id": "q1owHi3m0XxS",
        "outputId": "d9df29e9-a538-4f0e-871d-c5aa3994ee80"
      },
      "execution_count": 2,
      "outputs": [
        {
          "output_type": "stream",
          "name": "stdout",
          "text": [
            "Mounted at /content/drive\n"
          ]
        }
      ]
    },
    {
      "cell_type": "markdown",
      "source": [
        "## Fine Tune Model"
      ],
      "metadata": {
        "id": "asGZo-BjoSSG"
      }
    },
    {
      "cell_type": "code",
      "source": [
        "import google.generativeai as genai\n",
        "from google.colab import userdata\n",
        "\n",
        "GOOGLE_API_KEY=userdata.get('GOOGLE_API_KEY')\n",
        "genai.configure(api_key=GOOGLE_API_KEY)\n",
        "\n",
        "# 检查所有finetune的模型\n",
        "for model_info in genai.list_tuned_models():\n",
        "    print(model_info.name)"
      ],
      "metadata": {
        "id": "aqoQMWx6oajv",
        "colab": {
          "base_uri": "https://localhost:8080/",
          "height": 173
        },
        "outputId": "6562599d-534a-4758-ead2-761fe1424fcd"
      },
      "execution_count": 4,
      "outputs": [
        {
          "output_type": "stream",
          "name": "stdout",
          "text": [
            "tunedModels/generate-num-5917\n",
            "tunedModels/amazonreview-4325\n",
            "tunedModels/amazonreview-6366\n",
            "tunedModels/amazonreview-2086\n",
            "tunedModels/reviewclassifier-g8uk4no67udl\n",
            "tunedModels/reviewclassifieroptimized-7sqarfnwtg1d\n",
            "tunedModels/reviewclassifieroptimized-a5zuez0wy92v\n",
            "tunedModels/reviewclassifieroptimized-w57fciqdwwqw\n",
            "tunedModels/reviewclassifieroptimized-oo9z4ioizwg3\n"
          ]
        }
      ]
    },
    {
      "cell_type": "markdown",
      "source": [
        "### Filter Invalid Training Data & Convert Format to the Input Format Gemini API Finetuning Accepts"
      ],
      "metadata": {
        "id": "4oViJSEXIrnz"
      }
    },
    {
      "cell_type": "code",
      "source": [
        "import time\n",
        "import json\n",
        "import google.generativeai as genai\n",
        "from google.colab import userdata\n",
        "import os\n",
        "import google.generativeai as genai\n",
        "\n",
        "\n",
        "# 逐行读取JSON\n",
        "data = []\n",
        "with open('/content/drive/MyDrive/CS6220/combined_dataset.json', 'r', encoding='utf-8') as f:\n",
        "    for line in f:\n",
        "        try:\n",
        "            item = json.loads(line.strip())\n",
        "            data.append(item)\n",
        "        except json.JSONDecodeError:\n",
        "            continue\n",
        "\n",
        "# 过滤无效的训练样本并转换格式\n",
        "training_data = []\n",
        "for example in data:\n",
        "    try:\n",
        "        if isinstance(example, dict) and 'reviewText' in example and 'class' in example:\n",
        "            if isinstance(example['reviewText'], str) and isinstance(example['class'], (int, float)):\n",
        "                training_data.append({\n",
        "                    'text_input': example['reviewText'],\n",
        "                    'output': str(int(example['class']))  # 转换为字符串格式\n",
        "                })\n",
        "    except:\n",
        "        continue\n",
        "\n",
        "print(f\"Valid examples: {len(training_data)} out of {len(data)}\")\n"
      ],
      "metadata": {
        "colab": {
          "base_uri": "https://localhost:8080/"
        },
        "id": "V4WpLj_QnxWw",
        "outputId": "edc1376e-3062-4131-9f9b-14e087f8a4c9"
      },
      "execution_count": 22,
      "outputs": [
        {
          "output_type": "stream",
          "name": "stdout",
          "text": [
            "Valid examples: 6000 out of 7000\n"
          ]
        }
      ]
    },
    {
      "cell_type": "markdown",
      "source": [
        "### Filter Invalid Validation Data & Convert Format to the Input Format Gemini API Finetuning Accepts"
      ],
      "metadata": {
        "id": "2S-g-qDjvulb"
      }
    },
    {
      "cell_type": "code",
      "source": [
        "import json\n",
        "# 逐行读取JSON\n",
        "data = []\n",
        "with open('/content/drive/MyDrive/CS6220/validation_dataset.json', 'r', encoding='utf-8') as f:\n",
        "    for line in f:\n",
        "        try:\n",
        "            item = json.loads(line.strip())\n",
        "            data.append(item)\n",
        "        except json.JSONDecodeError:\n",
        "            continue\n",
        "\n",
        "# 过滤无效的训练样本并转换格式\n",
        "validation_data = []\n",
        "for example in data:\n",
        "    try:\n",
        "        if isinstance(example, dict) and 'reviewText' in example and 'class' in example:\n",
        "            if isinstance(example['reviewText'], str) and isinstance(example['class'], (int, float)):\n",
        "                validation_data.append({\n",
        "                    'text_input': example['reviewText'],\n",
        "                    'output': str(int(example['class']))  # 转换为字符串格式\n",
        "                })\n",
        "    except:\n",
        "        continue\n",
        "\n",
        "validation_text_input = [item['text_input'] for item in validation_data]\n",
        "validation_labels = [int(item['output']) for item in validation_data]\n",
        "\n",
        "print(f\"Valid examples: {len(validation_data)} out of {len(data)}\")\n"
      ],
      "metadata": {
        "colab": {
          "base_uri": "https://localhost:8080/"
        },
        "id": "cUmQB1gsI_d9",
        "outputId": "b4645439-ee55-4871-a8d3-e699e55bb12b"
      },
      "execution_count": 20,
      "outputs": [
        {
          "output_type": "stream",
          "name": "stdout",
          "text": [
            "Valid examples: 300 out of 350\n"
          ]
        }
      ]
    },
    {
      "cell_type": "code",
      "source": [
        "import optuna\n",
        "from sklearn.metrics import log_loss  # 用于分类任务\n",
        "import seaborn as sns\n",
        "import pandas as pd\n",
        "\n",
        "\n",
        "def compute_validation_loss(model, validation_text_input, validation_labels):\n",
        "    \"\"\"\n",
        "    计算模型在验证集上的损失。\n",
        "\n",
        "    参数:\n",
        "    - model: 已微调的模型\n",
        "    - validation_text_input: 验证集的输入文本列表\n",
        "    - validation_labels: 验证集的真实标签列表\n",
        "\n",
        "    返回:\n",
        "    - 验证集损失 (float)\n",
        "    \"\"\"\n",
        "    # 生成预测概率或输出值\n",
        "    predictions = []\n",
        "    for text in validation_text_input:\n",
        "        prediction = model.generate_content(text,\n",
        "          safety_settings=[\n",
        "        {\n",
        "            \"category\": \"HARM_CATEGORY_SEXUALLY_EXPLICIT\",\n",
        "            \"threshold\": \"BLOCK_NONE\",\n",
        "        },\n",
        "        {\n",
        "            \"category\": \"HARM_CATEGORY_HATE_SPEECH\",\n",
        "            \"threshold\": \"BLOCK_NONE\",\n",
        "        },\n",
        "        {\n",
        "            \"category\": \"HARM_CATEGORY_DANGEROUS_CONTENT\",\n",
        "            \"threshold\": \"BLOCK_NONE\",\n",
        "        }\n",
        "    ])\n",
        "        predictions.append(prediction)\n",
        "\n",
        "    # 计算验证损失，例如 log_loss\n",
        "    val_loss = log_loss(validation_labels, predictions)\n",
        "    return val_loss\n",
        "\n",
        "\n",
        "def objective(trial):\n",
        "    # 让 Optuna 优化以下超参数\n",
        "    epoch_count = trial.suggest_int(\"epoch_count\", 1, 10)\n",
        "    batch_size = trial.suggest_categorical(\"batch_size\", [4, 8, 16, 32])\n",
        "    learning_rate = trial.suggest_loguniform(\"learning_rate\", 1e-5, 1e-1)\n",
        "\n",
        "    # 设置并运行微调过程\n",
        "    operation = genai.create_tuned_model(\n",
        "        display_name=\"review-classifier-optimized\",\n",
        "        source_model=\"models/gemini-1.5-flash-001-tuning\",\n",
        "        epoch_count=epoch_count,\n",
        "        batch_size=batch_size,\n",
        "        learning_rate=learning_rate,\n",
        "        training_data=training_data,\n",
        "    )\n",
        "\n",
        "\n",
        "    # 等待微调完成并计算验证集性能作为目标值\n",
        "    result = operation.result()\n",
        "\n",
        "    # 提取并绘制 Loss / Epoch 图\n",
        "    snapshots = pd.DataFrame(result.tuning_task.snapshots)\n",
        "    sns.lineplot(data=snapshots, x = 'epoch', y='mean_loss')\n",
        "\n",
        "    val_loss = compute_validation_loss(result, validation_text_input, validation_labels)\n",
        "    return val_loss\n",
        "\n",
        "study = optuna.create_study(direction=\"minimize\")\n",
        "study.optimize(objective, n_trials=10)\n",
        "print(\"Best Parameters:\", study.best_params)"
      ],
      "metadata": {
        "id": "uTLYQExu_i4v"
      },
      "execution_count": null,
      "outputs": []
    },
    {
      "cell_type": "code",
      "source": [
        "\n",
        "# 开始训练\n",
        "base_model = \"models/gemini-1.5-flash-001-tuning\"\n",
        "operation = genai.create_tuned_model(\n",
        "    display_name=\"review-classifier\",\n",
        "    source_model=base_model,\n",
        "    epoch_count=2,\n",
        "    batch_size=4,\n",
        "    learning_rate=0.001,\n",
        "    training_data=training_data,\n",
        ")\n",
        "\n",
        "# 等待训练完成\n",
        "for status in operation.wait_bar():\n",
        "    time.sleep(10)\n",
        "\n",
        "result = operation.result()\n",
        "print(\"Model Name:\", result)\n",
        "\n",
        "reviewclassifier1 = result.name\n",
        "\n",
        "# 使用训练好的模型\n",
        "model = genai.GenerativeModel(model_name=result.name)\n",
        "test_review = \"The case fits perfectly and provides good protection\"\n",
        "result = model.generate_content(test_review)\n",
        "print(result.text)"
      ],
      "metadata": {
        "colab": {
          "base_uri": "https://localhost:8080/",
          "height": 379,
          "referenced_widgets": [
            "02143df78d8c4d958401a31b868c5bfa",
            "ed0dc3e3e9ed4fd0b6fdcbf4cf4cf346",
            "b7fa51900a87419297342df7f1e28029",
            "08462769227e453283a7782fc883ab54",
            "bc4ef718892b46739e6f5d6de7b20adf",
            "534468941b6c4fb39a7835e8470ecd2b",
            "457f906bc16e4906ada66aed4d2f2254",
            "cbc8080d0a2e4275bb0eb99a1314d6b4",
            "0a126bf132354476b4338420113bdac8",
            "1a438ad4ede04303acadd705bb4e9c50",
            "f7ad7d931cad47399a51004e87243475"
          ]
        },
        "id": "1vGNE0ZuPGt9",
        "outputId": "bb433020-eb22-4044-bc15-41530ef9ce3c"
      },
      "execution_count": 5,
      "outputs": [
        {
          "output_type": "display_data",
          "data": {
            "text/plain": [
              "  0%|          | 0/3000 [00:00<?, ?it/s]"
            ],
            "application/vnd.jupyter.widget-view+json": {
              "version_major": 2,
              "version_minor": 0,
              "model_id": "02143df78d8c4d958401a31b868c5bfa"
            }
          },
          "metadata": {}
        },
        {
          "output_type": "stream",
          "name": "stdout",
          "text": [
            "TunedModel(name='tunedModels/reviewclassifier-g8uk4no67udl',\n",
            "           source_model='models/gemini-1.5-flash-001-tuning',\n",
            "           base_model='models/gemini-1.5-flash-001-tuning',\n",
            "           display_name='review-classifier',\n",
            "           description='',\n",
            "           temperature=1.0,\n",
            "           top_p=0.95,\n",
            "           top_k=64,\n",
            "           state=<State.ACTIVE: 2>,\n",
            "           create_time=datetime.datetime(2024, 11, 12, 0, 45, 42, 653376, tzinfo=datetime.timezone.utc),\n",
            "           update_time=datetime.datetime(2024, 11, 12, 2, 51, 35, 127299, tzinfo=datetime.timezone.utc),\n",
            "           tuning_task=TuningTask(start_time=datetime.datetime(2024, 11, 12, 0, 45, 43, 430072, tzinfo=datetime.timezone.utc),\n",
            "                                  complete_time=datetime.datetime(2024, 11, 12, 2, 51, 35, 127299, tzinfo=datetime.timezone.utc),\n",
            "                                  snapshots=[...],\n",
            "                                  hyperparameters=Hyperparameters(epoch_count=2,\n",
            "                                                                  batch_size=4,\n",
            "                                                                  learning_rate=0.001)),\n",
            "           reader_project_numbers=None)\n",
            "1\n"
          ]
        }
      ]
    },
    {
      "cell_type": "code",
      "source": [
        "result = operation.result()\n",
        "reviewclassifier1 = result.name\n",
        "print(\"Tuned Model Name:\", result.name)"
      ],
      "metadata": {
        "colab": {
          "base_uri": "https://localhost:8080/",
          "height": 176
        },
        "collapsed": true,
        "id": "lIlePSqWU3qs",
        "outputId": "412d2fcd-ae2e-4bfe-9c99-ca32fe175797"
      },
      "execution_count": 7,
      "outputs": [
        {
          "output_type": "error",
          "ename": "NameError",
          "evalue": "name 'operation' is not defined",
          "traceback": [
            "\u001b[0;31m---------------------------------------------------------------------------\u001b[0m",
            "\u001b[0;31mNameError\u001b[0m                                 Traceback (most recent call last)",
            "\u001b[0;32m<ipython-input-7-f4792cfaaf30>\u001b[0m in \u001b[0;36m<cell line: 1>\u001b[0;34m()\u001b[0m\n\u001b[0;32m----> 1\u001b[0;31m \u001b[0mresult\u001b[0m \u001b[0;34m=\u001b[0m \u001b[0moperation\u001b[0m\u001b[0;34m.\u001b[0m\u001b[0mresult\u001b[0m\u001b[0;34m(\u001b[0m\u001b[0;34m)\u001b[0m\u001b[0;34m\u001b[0m\u001b[0;34m\u001b[0m\u001b[0m\n\u001b[0m\u001b[1;32m      2\u001b[0m \u001b[0mreviewclassifier1\u001b[0m \u001b[0;34m=\u001b[0m \u001b[0mresult\u001b[0m\u001b[0;34m.\u001b[0m\u001b[0mname\u001b[0m\u001b[0;34m\u001b[0m\u001b[0;34m\u001b[0m\u001b[0m\n\u001b[1;32m      3\u001b[0m \u001b[0mprint\u001b[0m\u001b[0;34m(\u001b[0m\u001b[0;34m\"Tuned Model Name:\"\u001b[0m\u001b[0;34m,\u001b[0m \u001b[0mresult\u001b[0m\u001b[0;34m.\u001b[0m\u001b[0mname\u001b[0m\u001b[0;34m)\u001b[0m\u001b[0;34m\u001b[0m\u001b[0;34m\u001b[0m\u001b[0m\n",
            "\u001b[0;31mNameError\u001b[0m: name 'operation' is not defined"
          ]
        }
      ]
    },
    {
      "cell_type": "code",
      "source": [
        "# Use metadata to check the state\n",
        "operation.metadata"
      ],
      "metadata": {
        "id": "v959-h72VO9q"
      },
      "execution_count": null,
      "outputs": []
    },
    {
      "cell_type": "code",
      "source": [
        "# Epoch/Loss Graph\n",
        "import pandas as pd\n",
        "import seaborn as sns\n",
        "\n",
        "model = operation.result()\n",
        "\n",
        "snapshots = pd.DataFrame(model.tuning_task.snapshots)\n",
        "\n",
        "sns.lineplot(data=snapshots, x = 'epoch', y='mean_loss')"
      ],
      "metadata": {
        "id": "IkPT5-G5UtyS"
      },
      "execution_count": null,
      "outputs": []
    },
    {
      "cell_type": "code",
      "source": [
        "# 使用训练好的模型\n",
        "model = genai.GenerativeModel(model_name='tunedModels/reviewclassifier-g8uk4no67udl')\n",
        "test_review = \"The case fits perfectly and provides good protection\"\n",
        "prediction = model.generate_content(test_review)\n",
        "print(prediction.text)"
      ],
      "metadata": {
        "colab": {
          "base_uri": "https://localhost:8080/",
          "height": 34
        },
        "collapsed": true,
        "id": "sA_XhfflfaVJ",
        "outputId": "4f56531e-4778-4f9a-fb67-54c354a4eaa2"
      },
      "execution_count": 6,
      "outputs": [
        {
          "output_type": "stream",
          "name": "stdout",
          "text": [
            "1\n"
          ]
        }
      ]
    },
    {
      "cell_type": "markdown",
      "source": [
        "## Metrics"
      ],
      "metadata": {
        "id": "Usuw3QA8VXA9"
      }
    },
    {
      "cell_type": "code",
      "source": [
        "import json\n",
        "from sklearn.metrics import accuracy_score, precision_score, recall_score, confusion_matrix\n",
        "import matplotlib.pyplot as plt\n",
        "import pandas as pd\n",
        "from tqdm import tqdm\n",
        "\n",
        "test_data_path = \"/content/drive/MyDrive/CS6220/test_dataset.csv\"\n",
        "test_data = pd.read_csv(test_data_path)\n",
        "\n",
        "test_data = test_data.dropna(subset=['reviewText', 'class'])\n",
        "test_data = test_data.iloc[:1000]\n",
        "\n",
        "# 提取测试文本\n",
        "test_texts = test_data['reviewText']\n",
        "\n",
        "# 存储预测结果\n",
        "test_predictions = []\n",
        "\n",
        "# 使用模型逐条预测\n",
        "model = genai.GenerativeModel(model_name='tunedModels/reviewclassifier-g8uk4no67udl')\n",
        "\n",
        "for text in tqdm(test_texts):\n",
        "  try:\n",
        "    prediction = model.generate_content(\n",
        "    text,\n",
        "    safety_settings=[\n",
        "        {\n",
        "            \"category\": \"HARM_CATEGORY_SEXUALLY_EXPLICIT\",\n",
        "            \"threshold\": \"BLOCK_NONE\",\n",
        "        },\n",
        "        {\n",
        "            \"category\": \"HARM_CATEGORY_HATE_SPEECH\",\n",
        "            \"threshold\": \"BLOCK_NONE\",\n",
        "        },\n",
        "        {\n",
        "            \"category\": \"HARM_CATEGORY_DANGEROUS_CONTENT\",\n",
        "            \"threshold\": \"BLOCK_NONE\",\n",
        "        }\n",
        "    ]\n",
        ")\n",
        "    # print(prediction.text)\n",
        "    # 将预测结果存入列表\n",
        "    test_predictions.append(prediction.text)\n",
        "  except ValueError as e:\n",
        "        print(f\"跳过一个输入，原因: {e}\")\n",
        "        # test_predictions.append('0')\n",
        "\n",
        "# 现在 test_predictions 包含了所有测试样本的预测标签\n",
        "# 继续进行性能评估\n",
        "test_predictions = [int(x) for x in test_predictions]\n",
        "test_labels = test_data['class'].astype(int)  # 确保标签格式正确\n",
        "\n",
        "# 计算性能指标\n",
        "accuracy = accuracy_score(test_labels, test_predictions)\n",
        "precision = precision_score(test_labels, test_predictions)\n",
        "recall = recall_score(test_labels, test_predictions)\n",
        "\n",
        "# 打印性能指标\n",
        "print(f\"Accuracy: {accuracy:.4f}\")\n",
        "print(f\"Precision: {precision:.4f}\")\n",
        "print(f\"Recall: {recall:.4f}\")\n"
      ],
      "metadata": {
        "colab": {
          "base_uri": "https://localhost:8080/",
          "height": 86
        },
        "id": "DE2SpypsVbLo",
        "outputId": "34534493-19d0-4b96-8252-057445e7a68c"
      },
      "execution_count": 6,
      "outputs": [
        {
          "output_type": "stream",
          "name": "stderr",
          "text": [
            "100%|██████████| 1000/1000 [21:00<00:00,  1.26s/it]"
          ]
        },
        {
          "output_type": "stream",
          "name": "stdout",
          "text": [
            "Accuracy: 0.8960\n",
            "Precision: 0.9621\n",
            "Recall: 0.9033\n"
          ]
        },
        {
          "output_type": "stream",
          "name": "stderr",
          "text": [
            "\n"
          ]
        }
      ]
    },
    {
      "cell_type": "code",
      "source": [
        "# 计算并绘制混淆矩阵\n",
        "conf_matrix = confusion_matrix(test_labels, test_predictions)\n",
        "plt.figure(figsize=(6, 6))\n",
        "plt.imshow(conf_matrix, cmap='Blues', interpolation='nearest')\n",
        "plt.title(\"Confusion Matrix\")\n",
        "plt.colorbar()\n",
        "plt.xticks([0, 1], [\"Fake Review (Negative)\", \"True Review (Positive)\"])\n",
        "plt.yticks([0, 1], [\"Fake Review (Negative)\", \"True Review (Positive)\"])\n",
        "plt.xlabel(\"Predicted Labels\")\n",
        "plt.ylabel(\"True Labels\")\n",
        "\n",
        "# 在混淆矩阵图中添加每个格子的数字\n",
        "for i in range(conf_matrix.shape[0]):\n",
        "    for j in range(conf_matrix.shape[1]):\n",
        "        plt.text(j, i, format(conf_matrix[i, j], 'd'), ha=\"center\", va=\"center\", color=\"black\")\n",
        "\n",
        "plt.show()\n",
        "\n",
        "# 提取并绘制 True Positive 和 False Positive 的柱状图\n",
        "TP = conf_matrix[1, 1]\n",
        "FP = conf_matrix[0, 1]\n",
        "TN = conf_matrix[0, 0]\n",
        "FN = conf_matrix[1, 0]\n",
        "\n",
        "plt.figure(figsize=(6, 4))\n",
        "plt.bar(['True Positive', 'False Positive', 'True Negative', 'False Negative'], [TP, FP, TN, FN], color=['green', 'red', 'orange', 'blue'])\n",
        "plt.ylabel(\"Count\")\n",
        "plt.title(\"True Positive and False Positive Counts\")\n",
        "plt.show()\n"
      ],
      "metadata": {
        "colab": {
          "base_uri": "https://localhost:8080/",
          "height": 873
        },
        "id": "Yqq892GIl1-9",
        "outputId": "2a30eb26-da2f-4ec2-8c48-c64f4f9605c1"
      },
      "execution_count": 8,
      "outputs": [
        {
          "output_type": "display_data",
          "data": {
            "text/plain": [
              "<Figure size 600x600 with 2 Axes>"
            ],
            "image/png": "[encoded data removed]"
          },
          "metadata": {}
        },
        {
          "output_type": "display_data",
          "data": {
            "text/plain": [
              "<Figure size 600x400 with 1 Axes>"
            ],
            "image/png": "[encoded data removed]"
          },
          "metadata": {}
        }
      ]
    }
  ],
  "metadata": {
    "colab": {
      "provenance": [],
      "gpuType": "T4"
    },
    "kernelspec": {
      "display_name": "Python 3",
      "name": "python3"
    },
    "accelerator": "GPU",
    "widgets": {
      "application/vnd.jupyter.widget-state+json": {
        "02143df78d8c4d958401a31b868c5bfa": {
          "model_module": "@jupyter-widgets/controls",
          "model_name": "HBoxModel",
          "model_module_version": "1.5.0",
          "state": {
            "_dom_classes": [],
            "_model_module": "@jupyter-widgets/controls",
            "_model_module_version": "1.5.0",
            "_model_name": "HBoxModel",
            "_view_count": null,
            "_view_module": "@jupyter-widgets/controls",
            "_view_module_version": "1.5.0",
            "_view_name": "HBoxView",
            "box_style": "",
            "children": [
              "IPY_MODEL_ed0dc3e3e9ed4fd0b6fdcbf4cf4cf346",
              "IPY_MODEL_b7fa51900a87419297342df7f1e28029",
              "IPY_MODEL_08462769227e453283a7782fc883ab54"
            ],
            "layout": "IPY_MODEL_bc4ef718892b46739e6f5d6de7b20adf"
          }
        },
        "ed0dc3e3e9ed4fd0b6fdcbf4cf4cf346": {
          "model_module": "@jupyter-widgets/controls",
          "model_name": "HTMLModel",
          "model_module_version": "1.5.0",
          "state": {
            "_dom_classes": [],
            "_model_module": "@jupyter-widgets/controls",
            "_model_module_version": "1.5.0",
            "_model_name": "HTMLModel",
            "_view_count": null,
            "_view_module": "@jupyter-widgets/controls",
            "_view_module_version": "1.5.0",
            "_view_name": "HTMLView",
            "description": "",
            "description_tooltip": null,
            "layout": "IPY_MODEL_534468941b6c4fb39a7835e8470ecd2b",
            "placeholder": "​",
            "style": "IPY_MODEL_457f906bc16e4906ada66aed4d2f2254",
            "value": "100%"
          }
        },
        "b7fa51900a87419297342df7f1e28029": {
          "model_module": "@jupyter-widgets/controls",
          "model_name": "FloatProgressModel",
          "model_module_version": "1.5.0",
          "state": {
            "_dom_classes": [],
            "_model_module": "@jupyter-widgets/controls",
            "_model_module_version": "1.5.0",
            "_model_name": "FloatProgressModel",
            "_view_count": null,
            "_view_module": "@jupyter-widgets/controls",
            "_view_module_version": "1.5.0",
            "_view_name": "ProgressView",
            "bar_style": "success",
            "description": "",
            "description_tooltip": null,
            "layout": "IPY_MODEL_cbc8080d0a2e4275bb0eb99a1314d6b4",
            "max": 3000,
            "min": 0,
            "orientation": "horizontal",
            "style": "IPY_MODEL_0a126bf132354476b4338420113bdac8",
            "value": 3000
          }
        },
        "08462769227e453283a7782fc883ab54": {
          "model_module": "@jupyter-widgets/controls",
          "model_name": "HTMLModel",
          "model_module_version": "1.5.0",
          "state": {
            "_dom_classes": [],
            "_model_module": "@jupyter-widgets/controls",
            "_model_module_version": "1.5.0",
            "_model_name": "HTMLModel",
            "_view_count": null,
            "_view_module": "@jupyter-widgets/controls",
            "_view_module_version": "1.5.0",
            "_view_name": "HTMLView",
            "description": "",
            "description_tooltip": null,
            "layout": "IPY_MODEL_1a438ad4ede04303acadd705bb4e9c50",
            "placeholder": "​",
            "style": "IPY_MODEL_f7ad7d931cad47399a51004e87243475",
            "value": " 3000/3000 [2:44:18&lt;00:00,  2.43s/it]"
          }
        },
        "bc4ef718892b46739e6f5d6de7b20adf": {
          "model_module": "@jupyter-widgets/base",
          "model_name": "LayoutModel",
          "model_module_version": "1.2.0",
          "state": {
            "_model_module": "@jupyter-widgets/base",
            "_model_module_version": "1.2.0",
            "_model_name": "LayoutModel",
            "_view_count": null,
            "_view_module": "@jupyter-widgets/base",
            "_view_module_version": "1.2.0",
            "_view_name": "LayoutView",
            "align_content": null,
            "align_items": null,
            "align_self": null,
            "border": null,
            "bottom": null,
            "display": null,
            "flex": null,
            "flex_flow": null,
            "grid_area": null,
            "grid_auto_columns": null,
            "grid_auto_flow": null,
            "grid_auto_rows": null,
            "grid_column": null,
            "grid_gap": null,
            "grid_row": null,
            "grid_template_areas": null,
            "grid_template_columns": null,
            "grid_template_rows": null,
            "height": null,
            "justify_content": null,
            "justify_items": null,
            "left": null,
            "margin": null,
            "max_height": null,
            "max_width": null,
            "min_height": null,
            "min_width": null,
            "object_fit": null,
            "object_position": null,
            "order": null,
            "overflow": null,
            "overflow_x": null,
            "overflow_y": null,
            "padding": null,
            "right": null,
            "top": null,
            "visibility": null,
            "width": null
          }
        },
        "534468941b6c4fb39a7835e8470ecd2b": {
          "model_module": "@jupyter-widgets/base",
          "model_name": "LayoutModel",
          "model_module_version": "1.2.0",
          "state": {
            "_model_module": "@jupyter-widgets/base",
            "_model_module_version": "1.2.0",
            "_model_name": "LayoutModel",
            "_view_count": null,
            "_view_module": "@jupyter-widgets/base",
            "_view_module_version": "1.2.0",
            "_view_name": "LayoutView",
            "align_content": null,
            "align_items": null,
            "align_self": null,
            "border": null,
            "bottom": null,
            "display": null,
            "flex": null,
            "flex_flow": null,
            "grid_area": null,
            "grid_auto_columns": null,
            "grid_auto_flow": null,
            "grid_auto_rows": null,
            "grid_column": null,
            "grid_gap": null,
            "grid_row": null,
            "grid_template_areas": null,
            "grid_template_columns": null,
            "grid_template_rows": null,
            "height": null,
            "justify_content": null,
            "justify_items": null,
            "left": null,
            "margin": null,
            "max_height": null,
            "max_width": null,
            "min_height": null,
            "min_width": null,
            "object_fit": null,
            "object_position": null,
            "order": null,
            "overflow": null,
            "overflow_x": null,
            "overflow_y": null,
            "padding": null,
            "right": null,
            "top": null,
            "visibility": null,
            "width": null
          }
        },
        "457f906bc16e4906ada66aed4d2f2254": {
          "model_module": "@jupyter-widgets/controls",
          "model_name": "DescriptionStyleModel",
          "model_module_version": "1.5.0",
          "state": {
            "_model_module": "@jupyter-widgets/controls",
            "_model_module_version": "1.5.0",
            "_model_name": "DescriptionStyleModel",
            "_view_count": null,
            "_view_module": "@jupyter-widgets/base",
            "_view_module_version": "1.2.0",
            "_view_name": "StyleView",
            "description_width": ""
          }
        },
        "cbc8080d0a2e4275bb0eb99a1314d6b4": {
          "model_module": "@jupyter-widgets/base",
          "model_name": "LayoutModel",
          "model_module_version": "1.2.0",
          "state": {
            "_model_module": "@jupyter-widgets/base",
            "_model_module_version": "1.2.0",
            "_model_name": "LayoutModel",
            "_view_count": null,
            "_view_module": "@jupyter-widgets/base",
            "_view_module_version": "1.2.0",
            "_view_name": "LayoutView",
            "align_content": null,
            "align_items": null,
            "align_self": null,
            "border": null,
            "bottom": null,
            "display": null,
            "flex": null,
            "flex_flow": null,
            "grid_area": null,
            "grid_auto_columns": null,
            "grid_auto_flow": null,
            "grid_auto_rows": null,
            "grid_column": null,
            "grid_gap": null,
            "grid_row": null,
            "grid_template_areas": null,
            "grid_template_columns": null,
            "grid_template_rows": null,
            "height": null,
            "justify_content": null,
            "justify_items": null,
            "left": null,
            "margin": null,
            "max_height": null,
            "max_width": null,
            "min_height": null,
            "min_width": null,
            "object_fit": null,
            "object_position": null,
            "order": null,
            "overflow": null,
            "overflow_x": null,
            "overflow_y": null,
            "padding": null,
            "right": null,
            "top": null,
            "visibility": null,
            "width": null
          }
        },
        "0a126bf132354476b4338420113bdac8": {
          "model_module": "@jupyter-widgets/controls",
          "model_name": "ProgressStyleModel",
          "model_module_version": "1.5.0",
          "state": {
            "_model_module": "@jupyter-widgets/controls",
            "_model_module_version": "1.5.0",
            "_model_name": "ProgressStyleModel",
            "_view_count": null,
            "_view_module": "@jupyter-widgets/base",
            "_view_module_version": "1.2.0",
            "_view_name": "StyleView",
            "bar_color": null,
            "description_width": ""
          }
        },
        "1a438ad4ede04303acadd705bb4e9c50": {
          "model_module": "@jupyter-widgets/base",
          "model_name": "LayoutModel",
          "model_module_version": "1.2.0",
          "state": {
            "_model_module": "@jupyter-widgets/base",
            "_model_module_version": "1.2.0",
            "_model_name": "LayoutModel",
            "_view_count": null,
            "_view_module": "@jupyter-widgets/base",
            "_view_module_version": "1.2.0",
            "_view_name": "LayoutView",
            "align_content": null,
            "align_items": null,
            "align_self": null,
            "border": null,
            "bottom": null,
            "display": null,
            "flex": null,
            "flex_flow": null,
            "grid_area": null,
            "grid_auto_columns": null,
            "grid_auto_flow": null,
            "grid_auto_rows": null,
            "grid_column": null,
            "grid_gap": null,
            "grid_row": null,
            "grid_template_areas": null,
            "grid_template_columns": null,
            "grid_template_rows": null,
            "height": null,
            "justify_content": null,
            "justify_items": null,
            "left": null,
            "margin": null,
            "max_height": null,
            "max_width": null,
            "min_height": null,
            "min_width": null,
            "object_fit": null,
            "object_position": null,
            "order": null,
            "overflow": null,
            "overflow_x": null,
            "overflow_y": null,
            "padding": null,
            "right": null,
            "top": null,
            "visibility": null,
            "width": null
          }
        },
        "f7ad7d931cad47399a51004e87243475": {
          "model_module": "@jupyter-widgets/controls",
          "model_name": "DescriptionStyleModel",
          "model_module_version": "1.5.0",
          "state": {
            "_model_module": "@jupyter-widgets/controls",
            "_model_module_version": "1.5.0",
            "_model_name": "DescriptionStyleModel",
            "_view_count": null,
            "_view_module": "@jupyter-widgets/base",
            "_view_module_version": "1.2.0",
            "_view_name": "StyleView",
            "description_width": ""
          }
        }
      }
    }
  },
  "nbformat": 4,
  "nbformat_minor": 0
}