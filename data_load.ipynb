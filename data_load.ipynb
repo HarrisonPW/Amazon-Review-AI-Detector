{
 "cells": [
  {
   "cell_type": "markdown",
   "metadata": {},
   "source": [
    "# This file is intended to show an example of loading new data"
   ]
  },
  {
   "cell_type": "code",
   "execution_count": 1,
   "metadata": {},
   "outputs": [],
   "source": [
    "import json\n",
    "import pandas as pd\n"
   ]
  },
  {
   "cell_type": "code",
   "execution_count": 8,
   "metadata": {},
   "outputs": [],
   "source": [
    "with open('json_chunks/processeddata_cell.json', 'r') as f:\n",
    "    df1 = [json.loads(line.strip()) for line in f]\n",
    "df1 = pd.DataFrame(df1)\n"
   ]
  },
  {
   "cell_type": "code",
   "execution_count": 9,
   "metadata": {},
   "outputs": [],
   "source": [
    "with open('json_chunks/processeddata_clothing.json', 'r') as f:\n",
    "    df2 = [json.loads(line.strip()) for line in f]\n",
    "df2 = pd.DataFrame(df2)\n"
   ]
  },
  {
   "cell_type": "code",
   "execution_count": 10,
   "metadata": {},
   "outputs": [],
   "source": [
    "with open('json_chunks/processeddata_home.json', 'r') as f:\n",
    "    df3 = [json.loads(line.strip()) for line in f]\n",
    "df3 = pd.DataFrame(df3)\n"
   ]
  },
  {
   "cell_type": "code",
   "execution_count": 11,
   "metadata": {},
   "outputs": [],
   "source": [
    "with open('json_chunks/processeddata_sports.json', 'r') as f:\n",
    "    df4 = [json.loads(line.strip()) for line in f]\n",
    "df4 = pd.DataFrame(df4)\n"
   ]
  },
  {
   "cell_type": "code",
   "execution_count": 12,
   "metadata": {},
   "outputs": [],
   "source": [
    "with open('json_chunks/processeddata_toys.json', 'r') as f:\n",
    "    df5 = [json.loads(line.strip()) for line in f]\n",
    "df5 = pd.DataFrame(df5)\n"
   ]
  },
  {
   "cell_type": "code",
   "execution_count": 13,
   "metadata": {},
   "outputs": [],
   "source": [
    "df = pd.concat([df1,df2,df3,df4,df5])"
   ]
  },
  {
   "cell_type": "code",
   "execution_count": 15,
   "metadata": {},
   "outputs": [
    {
     "data": {
      "text/html": [
       "<div>\n",
       "<style scoped>\n",
       "    .dataframe tbody tr th:only-of-type {\n",
       "        vertical-align: middle;\n",
       "    }\n",
       "\n",
       "    .dataframe tbody tr th {\n",
       "        vertical-align: top;\n",
       "    }\n",
       "\n",
       "    .dataframe thead th {\n",
       "        text-align: right;\n",
       "    }\n",
       "</style>\n",
       "<table border=\"1\" class=\"dataframe\">\n",
       "  <thead>\n",
       "    <tr style=\"text-align: right;\">\n",
       "      <th></th>\n",
       "      <th>category</th>\n",
       "      <th>summary</th>\n",
       "      <th>reviewText</th>\n",
       "      <th>class</th>\n",
       "      <th>reviewTextEdit</th>\n",
       "    </tr>\n",
       "  </thead>\n",
       "  <tbody>\n",
       "    <tr>\n",
       "      <th>14088</th>\n",
       "      <td>Sports_and_Outdoors</td>\n",
       "      <td>Great marksman rifle for the price.</td>\n",
       "      <td>just got my uhc super pro 9 version 2 and all ...</td>\n",
       "      <td>1.0</td>\n",
       "      <td>got uhc super pro version say impress requir m...</td>\n",
       "    </tr>\n",
       "    <tr>\n",
       "      <th>8321</th>\n",
       "      <td>Toys_and_Games</td>\n",
       "      <td>Great expansion to a great game</td>\n",
       "      <td>Eclipse has been a weekly staple, and this exp...</td>\n",
       "      <td>1.0</td>\n",
       "      <td>eclips weekli stapl expans add balanc technolo...</td>\n",
       "    </tr>\n",
       "    <tr>\n",
       "      <th>19665</th>\n",
       "      <td>Sports_and_Outdoors</td>\n",
       "      <td>Unreliable and unsafe</td>\n",
       "      <td>The tab on the included spring insert is too s...</td>\n",
       "      <td>0.0</td>\n",
       "      <td>tab includ spring insert small line hole exten...</td>\n",
       "    </tr>\n",
       "    <tr>\n",
       "      <th>18807</th>\n",
       "      <td>Cell_Phones_and_Accessories</td>\n",
       "      <td>Stylus</td>\n",
       "      <td>Great price for the set...works great too!  Go...</td>\n",
       "      <td>1.0</td>\n",
       "      <td>great price set work great got set grandkid li...</td>\n",
       "    </tr>\n",
       "    <tr>\n",
       "      <th>5145</th>\n",
       "      <td>Cell_Phones_and_Accessories</td>\n",
       "      <td>Not a secure fit</td>\n",
       "      <td>Its hard to open, hard to close. I would have ...</td>\n",
       "      <td>0.0</td>\n",
       "      <td>hard open hard close would prefer magnet closu...</td>\n",
       "    </tr>\n",
       "  </tbody>\n",
       "</table>\n",
       "</div>"
      ],
      "text/plain": [
       "                          category                              summary  \\\n",
       "14088          Sports_and_Outdoors  Great marksman rifle for the price.   \n",
       "8321                Toys_and_Games      Great expansion to a great game   \n",
       "19665          Sports_and_Outdoors                Unreliable and unsafe   \n",
       "18807  Cell_Phones_and_Accessories                               Stylus   \n",
       "5145   Cell_Phones_and_Accessories                     Not a secure fit   \n",
       "\n",
       "                                              reviewText  class  \\\n",
       "14088  just got my uhc super pro 9 version 2 and all ...    1.0   \n",
       "8321   Eclipse has been a weekly staple, and this exp...    1.0   \n",
       "19665  The tab on the included spring insert is too s...    0.0   \n",
       "18807  Great price for the set...works great too!  Go...    1.0   \n",
       "5145   Its hard to open, hard to close. I would have ...    0.0   \n",
       "\n",
       "                                          reviewTextEdit  \n",
       "14088  got uhc super pro version say impress requir m...  \n",
       "8321   eclips weekli stapl expans add balanc technolo...  \n",
       "19665  tab includ spring insert small line hole exten...  \n",
       "18807  great price set work great got set grandkid li...  \n",
       "5145   hard open hard close would prefer magnet closu...  "
      ]
     },
     "execution_count": 15,
     "metadata": {},
     "output_type": "execute_result"
    }
   ],
   "source": [
    "df.sample(5)"
   ]
  },
  {
   "cell_type": "code",
   "execution_count": null,
   "metadata": {},
   "outputs": [],
   "source": [
    "df = pd.concat([df1,df2,df3,df4,df5],ignore_index=True)"
   ]
  }
 ],
 "metadata": {
  "kernelspec": {
   "display_name": "Python 3",
   "language": "python",
   "name": "python3"
  },
  "language_info": {
   "codemirror_mode": {
    "name": "ipython",
    "version": 3
   },
   "file_extension": ".py",
   "mimetype": "text/x-python",
   "name": "python",
   "nbconvert_exporter": "python",
   "pygments_lexer": "ipython3",
   "version": "3.11.7"
  }
 },
 "nbformat": 4,
 "nbformat_minor": 2
}
